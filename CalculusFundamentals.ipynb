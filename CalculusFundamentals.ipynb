{
 "cells": [
  {
   "cell_type": "markdown",
   "id": "b69e368d",
   "metadata": {},
   "source": [
    "# Exploring Some Fundamentals"
   ]
  },
  {
   "cell_type": "markdown",
   "id": "38c10251",
   "metadata": {},
   "source": [
    "\n",
    "## A Bit of Context\n",
    "\n",
    "### High School\n",
    "\n",
    "Back when I was young, I discovered computers and programming with some high school\n",
    "friends that were making wonders with the help of a french copy of the\n",
    "[PC Bible](https://www.amazon.fr/Pc-Bible-Knorr/dp/0201883546) book.\n",
    "\n",
    "More specifically, part of their coding was done with an obscure language they\n",
    "called *assembly*.\n",
    "\n",
    "I was still fresh from BASIC and learning Pascal (with Turbo Pascal 6 then 7,\n",
    "anyone? ;-) ). Including x86 assembly in such development environments was easy,\n",
    "so I rapidly learned some of it, and discovered its counterparts: registers, bus,\n",
    "ports, cache, RAM, microcode, cycles, etc.\n",
    "\n",
    "I do not code in assembly anymore. But what I learned at that time still serves\n",
    "me today. In my opinion, having a reasonable model of how computers work when\n",
    "programming is underrated.\n",
    "\n",
    "### Engineering Shool\n",
    "\n",
    "A few years later, when I was studying Computer Science, some serious theoritical\n",
    "background came along, with terms like [Von Neumann architecture](https://en.wikipedia.org/wiki/Von_Neumann_architecture), or [Turing machine](https://en.wikipedia.org/wiki/Turing_machine).\n",
    "\n",
    "In those years, I was also supposed to learn about Lambda Calculus, Church *et\n",
    "al.* theoritical work on calculability. I think I completely missed the point at\n",
    "that time, as I was rapidly lost when trying to \"glue\" this knowledge with\n",
    "anything I could relate to what I knew about computers.\n",
    "\n",
    "For a reason: I had never exposed to any functional programming/reasonning before.\n",
    "\n",
    "### Back to Present\n",
    "\n",
    "Fast-forward... I've now coded in a functional fashion with Swift, Kotlin, or Rust,\n",
    "had several looks into Haskell and Elm, and I'm leaning towards functional style or\n",
    "patterns in any language that does not prevent me from doing so, such as Python.\n",
    "\n",
    "So when I found this video: https://www.youtube.com/watch?v=5C6sv7-eTKg, I\n",
    "thought it was a good time to return to functional programming ~~assembly~~\n",
    "fundamentals.\n",
    "\n",
    "What I found interesting in this video:\n",
    "\n",
    " * It uses Python, a \"usual\" (at least to me, i.e. non-functional) language\n",
    "   to illustrate the various steps.\n",
    " \n",
    " * It spares me from decrypting the oh-so-obscure mathematical notations that\n",
    "   pop up in a vast majority of the papers supposed to explain thoses concepts.\n",
    "   \n",
    "Both those \"qualities\" remove cognitive load that were as many barriers back then.\n",
    "\n",
    "This post is my most recent attempt at understanding lambda-calculus and *Y-combinator*.\n",
    "\n",
    "One more thing: David Beazley, the video speaker, is bright, clever and very\n",
    "educational. He also acknowledges that this topic is mind-bending, and I think I\n",
    "needed that."
   ]
  },
  {
   "cell_type": "markdown",
   "id": "87b3bdba",
   "metadata": {},
   "source": [
    "## Let's dive into the Maelström\n",
    "\n",
    "### The Rules\n",
    "\n",
    "Beazley starts by setting a few simple rules, stating what is allowed and\n",
    "what is not, while trying to build the various concepts we need.\n",
    "\n",
    "Those rules are quite simple:\n",
    "    \n",
    "1. Everything is a function, nothing else.\n",
    "\n",
    "2. All functions have a single argument (that is function, remember?).\n",
    "\n",
    "3. Their return values are be functions, obviously.\n",
    "\n",
    "He also provides some sound advice, like:\n",
    "    \n",
    "> When lost (like I have been), remember. Think of the various concepts as \"behaviours\".\n",
    "\n",
    "HTH!"
   ]
  },
  {
   "cell_type": "markdown",
   "id": "b6b7f911",
   "metadata": {},
   "source": [
    "### Boolean Values\n",
    "\n",
    "> How would you define booleans with such rules?\n",
    "\n",
    "Ouch...\n",
    "\n",
    "For starters, let's break a few rules, by using non-function arguments. To\n",
    "be a bit more concrete, we will consider electrical levels (engineering!)\n",
    "as Python strings.\n",
    "\n",
    "For example:"
   ]
  },
  {
   "cell_type": "code",
   "execution_count": null,
   "id": "b1dc84f5",
   "metadata": {},
   "outputs": [],
   "source": [
    "HIGH = \"5V\"\n",
    "LOW = \"GND\"  # i.e. ground, 0 Volts."
   ]
  },
  {
   "cell_type": "markdown",
   "id": "782064d1",
   "metadata": {},
   "source": [
    "Now we want something that returns `\"5V\"` when *TRUE*, and `\"GND\"` when *FALSE*.\n",
    "\n",
    "We could start like to go with something like:\n",
    "\n",
    "```python\n",
    "assert TRUE(\"5V\", \"GND\") == \"5V\"\n",
    "```\n",
    "\n",
    "and\n",
    "\n",
    "```python\n",
    "assert FALSE(\"5V\", \"GND\") == \"GND\"\n",
    "```\n",
    "\n",
    "Minimal code to achieve this could be:"
   ]
  },
  {
   "cell_type": "code",
   "execution_count": null,
   "id": "c8ba50f1",
   "metadata": {},
   "outputs": [],
   "source": [
    "def TRUE(left, right):\n",
    "    return left\n",
    "\n",
    "\n",
    "def FALSE(left, right):\n",
    "    return right"
   ]
  },
  {
   "cell_type": "markdown",
   "id": "7a61f2e4",
   "metadata": {},
   "source": [
    "Does it run as expected?\n",
    "\n",
    "Well, it seems so:"
   ]
  },
  {
   "cell_type": "code",
   "execution_count": null,
   "id": "3fd4dc3f",
   "metadata": {},
   "outputs": [],
   "source": [
    "assert TRUE(\"5V\", \"GND\") == \"5V\"\n",
    "assert FALSE(\"5V\", \"GND\") == \"GND\""
   ]
  },
  {
   "cell_type": "markdown",
   "id": "62df1123",
   "metadata": {},
   "source": [
    "Now let's try to get back into our initial rules. At least 2 rules are broken here:\n",
    "\n",
    "* we want single argument functions (rule-2).\n",
    "\n",
    "* we want functions as arguments (rule-1).\n",
    "\n",
    "To address the first broken rule, we'll use a simple trick that seems to be called *currying* (https://en.wikipedia.org/wiki/Currying).\n",
    "\n",
    "The principe is split a multiple-arguments function into several single-argument functions\n",
    "called in cascade. Instead of writing `f(a, b, c)`, we will code `f(a)(b)(c)` and expect the\n",
    "same return value.\n",
    "\n",
    "The principle is to make non-terminal function return another function that will in turn be called with the argument. In Python, it means converting:"
   ]
  },
  {
   "cell_type": "code",
   "execution_count": null,
   "id": "80fe6e2a",
   "metadata": {},
   "outputs": [],
   "source": [
    "def add_ko(a, b):  # Two args here, rule-2 is broken!\n",
    "    return a + b"
   ]
  },
  {
   "cell_type": "markdown",
   "id": "ed8bde49",
   "metadata": {},
   "source": [
    "to this:"
   ]
  },
  {
   "cell_type": "code",
   "execution_count": null,
   "id": "63a49cee",
   "metadata": {},
   "outputs": [],
   "source": [
    "def add_ok(a):  # Single arg, OK for rule-2.\n",
    "    \n",
    "    def f(b):  # Single arg, OK too for rule-2.\n",
    "        return a + b\n",
    "\n",
    "    return f"
   ]
  },
  {
   "cell_type": "markdown",
   "id": "5bd3e605",
   "metadata": {},
   "source": [
    "`add_ok(a)` return the `f` function, that is called with the `b` argument.\n",
    "\n",
    "Does it work?\n",
    "\n",
    "Let Python tells us what he thinks about this:"
   ]
  },
  {
   "cell_type": "code",
   "execution_count": null,
   "id": "ffd75ae8",
   "metadata": {},
   "outputs": [],
   "source": [
    "# Rule-2 broken!\n",
    "assert add_ko(3, 5) == 8\n",
    "\n",
    "# Rule-2 compliant \\o/.\n",
    "assert add_ok(3)(5) == 8"
   ]
  },
  {
   "cell_type": "markdown",
   "id": "4a27ec91",
   "metadata": {},
   "source": [
    "With this, we alter initial `TRUE` and `FALSE` definition."
   ]
  },
  {
   "cell_type": "code",
   "execution_count": null,
   "id": "538b4672",
   "metadata": {},
   "outputs": [],
   "source": [
    "def TRUE(left):\n",
    "    def f(right):\n",
    "        return left\n",
    "    return f\n",
    "\n",
    "\n",
    "def FALSE(left):\n",
    "    def f(right):\n",
    "        return right\n",
    "    return f\n",
    "\n",
    "assert TRUE(\"5V\")(\"GND\") == \"5V\"\n",
    "assert FALSE(\"5V\")(\"GND\") == \"GND\""
   ]
  },
  {
   "cell_type": "markdown",
   "id": "b8a0e4da",
   "metadata": {},
   "source": [
    "This code is now conformant to the \"single argument\" rule-2. Great.\n",
    "\n",
    "Remember that rule-1 is also broken, as previous code uses strings as arguments, instead of functions. But if you look closely to the code, only for the assertion part fails us.\n",
    "\n",
    "When \"legal\", single argument functions are provided as the `left` and `right` arguments of `TRUE` and `FALSE`,\n",
    "all our rules are standing.\n",
    "\n",
    "In other words, our function definitions are OK. It is the calling code that is not.\n",
    "\n",
    "So we may consider that, at this point, we have booleans.\n",
    "\n",
    "Well, kind of. Behaviour of booleans, if that helps."
   ]
  },
  {
   "cell_type": "markdown",
   "id": "2d3e6570",
   "metadata": {},
   "source": [
    "### Boolean Operators\n",
    "\n",
    "#### Logical Not\n",
    "\n",
    "Let's start with the simplest boolean operator: `NOT`.\n",
    "\n",
    "What we want here is easy to state:\n",
    "\n",
    "```python\n",
    "assert NOT(TRUE) == FALSE\n",
    "assert NOT(FALSE) == TRUE\n",
    "```\n",
    "\n",
    "Let's start by noticing a few interesting facts about this snippet.\n",
    "\n",
    "1. `NOT` is a function (rule-1 OK).\n",
    "\n",
    "2. `NOT` take a single argument (rule-2 OK).\n",
    "\n",
    "3. Both `TRUE` and `FALSE` are functions, so\n",
    "    1. `NOT` takes a \"legal\" function as argument.\n",
    "    2. `NOT` returns a \"legal\" function.\n",
    "   \n",
    "   That's rule-3!\n",
    "\n",
    "`NOT` interface is well on tracks. It is now only a matter of finding a suitable\n",
    "implementation.\n",
    "\n",
    "To do this, we need to remember that `TRUE` returns the *left*-y argument and\n",
    "`FALSE` returns *right*-y one.\n",
    "\n",
    "With our electrical levels, it means:\n",
    "\n",
    "```python\n",
    "assert NOT(TRUE)(\"5V\")(\"GND\") == \"GND\"\n",
    "assert NOT(FALSE)(\"5V\")(\"GND\") == \"5V\"\n",
    "```\n",
    "\n",
    "How to do this from this reasonable starting point:\n",
    "\n",
    "```python\n",
    "def NOT(f):\n",
    "    return ...  #\n",
    "```\n",
    "\n",
    "?\n",
    "\n",
    "First, notice some ~~funny~~twisted identities:"
   ]
  },
  {
   "cell_type": "code",
   "execution_count": null,
   "id": "2919c07d",
   "metadata": {},
   "outputs": [],
   "source": [
    "assert TRUE(FALSE)(TRUE) == FALSE  # Remember? TRUE returns left.\n",
    "#             ^---------------^"
   ]
  },
  {
   "cell_type": "markdown",
   "id": "123eac4c",
   "metadata": {},
   "source": [
    "When using the parameter names, it becomes:"
   ]
  },
  {
   "cell_type": "code",
   "execution_count": null,
   "id": "481be3ed",
   "metadata": {},
   "outputs": [],
   "source": [
    "assert TRUE(left=FALSE)(right=TRUE) == FALSE  # TRUE returns left.\n",
    "#                  ^---------------------^"
   ]
  },
  {
   "cell_type": "markdown",
   "id": "c4e84bcd",
   "metadata": {},
   "source": [
    "and"
   ]
  },
  {
   "cell_type": "code",
   "execution_count": null,
   "id": "89f5a062",
   "metadata": {},
   "outputs": [],
   "source": [
    "assert FALSE(FALSE)(TRUE) == TRUE  # FALSE returns right.\n",
    "#                     ^--------^"
   ]
  },
  {
   "cell_type": "markdown",
   "id": "4027682f",
   "metadata": {},
   "source": [
    "From this \"finding\", we can parametrize the first part of the identity."
   ]
  },
  {
   "cell_type": "code",
   "execution_count": null,
   "id": "0a59a9e7",
   "metadata": {},
   "outputs": [],
   "source": [
    "def NOT(f):\n",
    "    return f(FALSE)(TRUE)  # Here, f is either TRUE or FALSE, that\n",
    "    #        ^^^^^  ^^^^     will in turn choose left or right.\n",
    "    #        left   right"
   ]
  },
  {
   "cell_type": "markdown",
   "id": "44ce86ff",
   "metadata": {},
   "source": [
    "`f` being `TRUE` will chose left function, that is `FALSE`. And conversely.\n",
    "\n",
    "Is that OK for Python?"
   ]
  },
  {
   "cell_type": "code",
   "execution_count": null,
   "id": "9e747322",
   "metadata": {},
   "outputs": [],
   "source": [
    "assert NOT(TRUE) is FALSE\n",
    "assert NOT(FALSE) is TRUE\n",
    "# `is` instead of `==` is OK here, as TRUE and FALSE are always the same objects.\n",
    "\n",
    "# Let's get more \"physical\".\n",
    "assert NOT(TRUE)(\"5V\")(\"GND\") == \"GND\"\n",
    "assert NOT(FALSE)(\"5V\")(\"GND\") == \"5V\""
   ]
  },
  {
   "cell_type": "markdown",
   "id": "76065a82",
   "metadata": {},
   "source": [
    "We have a `NOT` function/behaviour! \\o/"
   ]
  },
  {
   "cell_type": "markdown",
   "id": "71e8897c",
   "metadata": {},
   "source": [
    "#### Logical And\n",
    "\n",
    "Similarly, we would like to define a `AND` operator that plays well with our `TRUE` and `FALSE` functions.\n",
    "\n",
    "Like this:\n",
    "\n",
    "```python\n",
    "assert AND(TRUE)(TRUE) is TRUE\n",
    "assert AND(TRUE)(FALSE) is FALSE\n",
    "assert AND(FALSE)(TRUE) is FALSE\n",
    "assert AND(FALSE)(FALSE) is FALSE\n",
    "```\n",
    "\n",
    "First remark, `AND` has to deal with 2 arguments. So it will have to look like this:\n",
    "\n",
    "```python\n",
    "def AND(x):\n",
    "    def f(y):\n",
    "        ...\n",
    "    return f\n",
    "```\n",
    "\n",
    "The point here to think about the binary operator shortcuts that usual programming languages make.\n",
    "\n",
    "Let me explain: in C or Javascript, when you write `x && y`, what happens depends on `x`.\n",
    "More specifically, if `x` is `false`, `y` is never evaluated, as the `x && y` will be `false`\n",
    "anyway.\n",
    "\n",
    "Let's try to derive an interesting identity to show this:"
   ]
  },
  {
   "cell_type": "code",
   "execution_count": null,
   "id": "a6b497fb",
   "metadata": {},
   "outputs": [],
   "source": [
    "assert FALSE(\"whatever\")(FALSE) is FALSE  # Left-y part is bypassed by FALSE.\n",
    "#                          ^---------^"
   ]
  },
  {
   "cell_type": "markdown",
   "id": "96a1fe0e",
   "metadata": {},
   "source": [
    "Conversely, when `x` is `true` in C-ish `x && y`, computation has to reach for `y`\n",
    "to find out the final value. There are 2 possibilities at this point: either `y`\n",
    "is `true` and `x && y` is `true`, or `y` is `false`, and so is `x && y`. It means\n",
    "the result **is** the `y` value.\n",
    "\n",
    "In other (Python) words:"
   ]
  },
  {
   "cell_type": "code",
   "execution_count": null,
   "id": "79ad210c",
   "metadata": {},
   "outputs": [],
   "source": [
    "assert TRUE(TRUE)(\"whatever\") is TRUE  # Right-y part is bypassed by TRUE.\n",
    "#             ^--------------------^\n",
    "\n",
    "assert TRUE(FALSE)(\"whatever\") is FALSE  # Right-y part is bypassed by TRUE.\n",
    "#             ^--------------------^"
   ]
  },
  {
   "cell_type": "markdown",
   "id": "5488492f",
   "metadata": {},
   "source": [
    "From this, we can infer that our `x` (which is either `TRUE` or `FALSE`) should come first, then call our `y` as its `left` argument and leave `right` as the `FALSE` value.\n",
    "\n",
    "Still there?\n",
    "\n",
    "Bear with me.\n",
    "\n",
    "Let's write this down in Python:"
   ]
  },
  {
   "cell_type": "code",
   "execution_count": null,
   "id": "bc76eb71",
   "metadata": {},
   "outputs": [],
   "source": [
    "def AND(x):\n",
    "    def f(y):\n",
    "        return x(y)(FALSE)\n",
    "\n",
    "    return f"
   ]
  },
  {
   "cell_type": "code",
   "execution_count": null,
   "id": "117dccee",
   "metadata": {},
   "outputs": [],
   "source": [
    "assert AND(TRUE)(TRUE) is TRUE\n",
    "assert AND(TRUE)(FALSE) is FALSE\n",
    "assert AND(FALSE)(TRUE) is FALSE\n",
    "assert AND(FALSE)(FALSE) is FALSE"
   ]
  },
  {
   "cell_type": "markdown",
   "id": "8adf4005",
   "metadata": {},
   "source": [
    "Nice.\n",
    "\n",
    "We can do even better.\n",
    "\n",
    "The remaining `FALSE` is called only when `x` is `FALSE`. So we can replace it in the implementation, without changing the outcome:"
   ]
  },
  {
   "cell_type": "code",
   "execution_count": null,
   "id": "c90b4d53",
   "metadata": {},
   "outputs": [],
   "source": [
    "def AND(x):\n",
    "    def f(y):\n",
    "        return x(y)(x)\n",
    "\n",
    "    return f"
   ]
  },
  {
   "cell_type": "code",
   "execution_count": null,
   "id": "33f3b017",
   "metadata": {},
   "outputs": [],
   "source": [
    "assert AND(TRUE)(TRUE) is TRUE\n",
    "assert AND(TRUE)(FALSE) is FALSE\n",
    "assert AND(FALSE)(TRUE) is FALSE\n",
    "assert AND(FALSE)(FALSE) is FALSE"
   ]
  },
  {
   "cell_type": "markdown",
   "id": "2286c90d",
   "metadata": {},
   "source": [
    "#### Logical Or"
   ]
  },
  {
   "cell_type": "markdown",
   "id": "559818d8",
   "metadata": {},
   "source": [
    "The implemetation is similar to `AND`'s one. Intuitively, we use the same\n",
    "trick: we mimic the shortcut taken by usual C-ish `x || y`. In this case,\n",
    "if `x` is `TRUE`, `y` does not need to be evaluated."
   ]
  },
  {
   "cell_type": "code",
   "execution_count": null,
   "id": "4f463cd1",
   "metadata": {},
   "outputs": [],
   "source": [
    "assert TRUE(TRUE)(\"anything\") is TRUE"
   ]
  },
  {
   "cell_type": "markdown",
   "id": "63f401a4",
   "metadata": {},
   "source": [
    "If `x` is `FALSE`, `x || y` value is up to `y`."
   ]
  },
  {
   "cell_type": "code",
   "execution_count": null,
   "id": "3923512e",
   "metadata": {},
   "outputs": [],
   "source": [
    "assert FALSE(\"anything\")(TRUE) is TRUE\n",
    "assert FALSE(\"anything\")(FALSE) is FALSE"
   ]
  },
  {
   "cell_type": "markdown",
   "id": "c7698b7e",
   "metadata": {},
   "source": [
    "Possible implementation:"
   ]
  },
  {
   "cell_type": "code",
   "execution_count": null,
   "id": "9b970794",
   "metadata": {},
   "outputs": [],
   "source": [
    "def OR(x):\n",
    "    def f(y):\n",
    "        return x(x)(y)\n",
    "\n",
    "    return f"
   ]
  },
  {
   "cell_type": "markdown",
   "id": "6e1fd63a",
   "metadata": {},
   "source": [
    "If you are lost, let me reformulate `OR` behaviour once again:\n",
    "\n",
    "* If `x` is `TRUE`, left function (`x` as `TRUE`) is returned.\n",
    "* If `x` is `FALSE`, let `y` on the right (that can be either `TRUE` or `FALSE`) decide.\n"
   ]
  },
  {
   "cell_type": "code",
   "execution_count": null,
   "id": "d5c7c377",
   "metadata": {},
   "outputs": [],
   "source": [
    "assert OR(TRUE)(TRUE) is TRUE\n",
    "assert OR(TRUE)(FALSE) is TRUE\n",
    "assert OR(FALSE)(TRUE) is TRUE\n",
    "assert OR(FALSE)(FALSE) is FALSE"
   ]
  },
  {
   "cell_type": "markdown",
   "id": "6376a958",
   "metadata": {},
   "source": [
    "We have boolean logic (well, boolean logic behaviour at least)!"
   ]
  },
  {
   "cell_type": "markdown",
   "id": "fd128d01",
   "metadata": {},
   "source": [
    "### Some Python Syntax\n",
    "\n",
    "Did you know that the initial rules we chose for this journey are leading us\n",
    "towards [Lambda Calculus](https://en.wikipedia.org/wiki/Lambda_calculus)?\n",
    "\n",
    "> Lambda calculus (also written as λ-calculus) is a formal system in\n",
    "> mathematical logic for expressing computation based on function abstraction\n",
    "> and application using variable binding and substitution. It is a universal\n",
    "> model of computation that can be used to simulate any Turing machine.\n",
    ">\n",
    "> It was introduced by the mathematician Alonzo Church in the 1930s as part\n",
    "> of his research into the foundations of mathematics.\n",
    "\n",
    "If you've done a bit of Python, you have already made the link with `lambda`\n",
    "Python keyword.\n",
    "\n",
    "It is a way to declare functions. More precisely, *anonymous functions*.\n",
    "\n",
    "It means there are 2 ways of declaring functions in Python."
   ]
  },
  {
   "cell_type": "code",
   "execution_count": null,
   "id": "f745e01f",
   "metadata": {},
   "outputs": [],
   "source": [
    "def add(a, b):\n",
    "    return a + b\n",
    "\n",
    "assert add(3, 5) == 8"
   ]
  },
  {
   "cell_type": "markdown",
   "id": "014917f6",
   "metadata": {},
   "source": [
    "or"
   ]
  },
  {
   "cell_type": "code",
   "execution_count": null,
   "id": "20899008",
   "metadata": {},
   "outputs": [],
   "source": [
    "lambda a, b: a + b\n",
    "\n",
    "assert (lambda a, b: a + b)(3, 5) == 8"
   ]
  },
  {
   "cell_type": "markdown",
   "id": "3c7e3148",
   "metadata": {},
   "source": [
    "2 ways of declaring, but same usage and same result.\n",
    "\n",
    "The second way is not very convenient, so we give it a name with a usual Python assignment. It is not anonymous anymore!"
   ]
  },
  {
   "cell_type": "code",
   "execution_count": null,
   "id": "1c8f432e",
   "metadata": {},
   "outputs": [],
   "source": [
    "add = lambda a, b: a + b\n",
    "\n",
    "assert add(3, 5) == 8"
   ]
  },
  {
   "cell_type": "markdown",
   "id": "895fbb36",
   "metadata": {},
   "source": [
    "Python `lambda` functions are somewhat limited, as their definitions is limited to a single expression. But in our case, it is also a convenient way to shorten our code.\n",
    "\n",
    "Especially when you want only functions with a single argument, as"
   ]
  },
  {
   "cell_type": "code",
   "execution_count": null,
   "id": "7830cd86",
   "metadata": {},
   "outputs": [],
   "source": [
    "def add(a):\n",
    "    def f(b):\n",
    "        return a + b\n",
    "    return f"
   ]
  },
  {
   "cell_type": "markdown",
   "id": "365b9eab",
   "metadata": {},
   "source": [
    "becomes first:"
   ]
  },
  {
   "cell_type": "code",
   "execution_count": null,
   "id": "78665bde",
   "metadata": {},
   "outputs": [],
   "source": [
    "def add(a):\n",
    "    return lambda b: a + b"
   ]
  },
  {
   "cell_type": "markdown",
   "id": "f5be148c",
   "metadata": {},
   "source": [
    "and finally:"
   ]
  },
  {
   "cell_type": "code",
   "execution_count": null,
   "id": "3dd74d7a",
   "metadata": {},
   "outputs": [],
   "source": [
    "add = lambda a: lambda b: a + b"
   ]
  },
  {
   "cell_type": "markdown",
   "id": "e3f530be",
   "metadata": {},
   "source": [
    "Let's rewrite our previous work with this syntax:"
   ]
  },
  {
   "cell_type": "code",
   "execution_count": null,
   "id": "49a08c7b",
   "metadata": {},
   "outputs": [],
   "source": [
    "TRUE = lambda x: lambda y: x\n",
    "FALSE = lambda x: lambda y: y\n",
    "\n",
    "NOT = lambda f: f(FALSE)(TRUE)\n",
    "\n",
    "AND = lambda x: lambda y: x(y)(x)\n",
    "OR = lambda x: lambda y: x(x)(y)"
   ]
  },
  {
   "cell_type": "markdown",
   "id": "77c0ed5d",
   "metadata": {},
   "source": [
    "And ensure that all is working as expected:"
   ]
  },
  {
   "cell_type": "code",
   "execution_count": null,
   "id": "f93574c5",
   "metadata": {},
   "outputs": [],
   "source": [
    "assert TRUE(\"5V\")(\"GND\") == \"5V\"\n",
    "assert FALSE(\"5V\")(\"GND\") == \"GND\"\n",
    "\n",
    "assert NOT(TRUE) is FALSE\n",
    "assert NOT(FALSE) is TRUE\n",
    "\n",
    "assert NOT(TRUE)(\"5V\")(\"GND\") == \"GND\"\n",
    "assert NOT(FALSE)(\"5V\")(\"GND\") == \"5V\"\n",
    "\n",
    "assert AND(TRUE)(TRUE) is TRUE\n",
    "assert AND(TRUE)(FALSE) is FALSE\n",
    "assert AND(FALSE)(TRUE) is FALSE\n",
    "assert AND(FALSE)(FALSE) is FALSE\n",
    "\n",
    "assert OR(TRUE)(TRUE) is TRUE\n",
    "assert OR(TRUE)(FALSE) is TRUE\n",
    "assert OR(FALSE)(TRUE) is TRUE\n",
    "assert OR(FALSE)(FALSE) is FALSE"
   ]
  },
  {
   "cell_type": "markdown",
   "id": "362bf088",
   "metadata": {},
   "source": [
    "Same result, shorter code.\n",
    "\n",
    "It may not seem easier to read at first, but this is only the beginning of\n",
    "our journey. You will get used to it rapidly.\n",
    "\n",
    "We can now go on!"
   ]
  },
  {
   "cell_type": "markdown",
   "id": "35cd33bb",
   "metadata": {},
   "source": [
    "### Numbers"
   ]
  },
  {
   "cell_type": "markdown",
   "id": "66604151",
   "metadata": {},
   "source": [
    "#### Numeration\n",
    "\n",
    "As we only have function calls, a way to deal with numbers is to count how many times a function is applied.\n",
    "\n",
    "The function that is called several times is not the point of this principle, so we'll abstract it by making it a argument of our numbers.\n",
    "\n",
    "For the sake of clarity, we will call this function `f`, and define numbers this way:"
   ]
  },
  {
   "cell_type": "code",
   "execution_count": null,
   "id": "40e6a149",
   "metadata": {},
   "outputs": [],
   "source": [
    "ONE = lambda f: lambda x: f(x)\n",
    "TWO = lambda f: lambda x: f(f(x))\n",
    "THREE = lambda f: lambda x: f(f(f(x)))"
   ]
  },
  {
   "cell_type": "markdown",
   "id": "f9b216b1",
   "metadata": {},
   "source": [
    "Just like booleans, we will illustrate this by choosing a `f` and a `x`.\n",
    "\n",
    "Here is an example:"
   ]
  },
  {
   "cell_type": "code",
   "execution_count": null,
   "id": "48eea991",
   "metadata": {},
   "outputs": [],
   "source": [
    "incr = lambda x: x + 1\n",
    "\n",
    "assert ONE(incr)(0) == 1\n",
    "assert TWO(incr)(0) == 2\n",
    "assert THREE(incr)(0) == 3"
   ]
  },
  {
   "cell_type": "markdown",
   "id": "a5553455",
   "metadata": {},
   "source": [
    "Here is another one, with a different `f` function and another *initial* `x` value:"
   ]
  },
  {
   "cell_type": "code",
   "execution_count": null,
   "id": "df5720f6",
   "metadata": {},
   "outputs": [],
   "source": [
    "concat = lambda x: \"*\" + x\n",
    "\n",
    "assert ONE(concat)(\"\") == \"*\"\n",
    "assert TWO(concat)(\"\") == \"**\"\n",
    "assert THREE(concat)(\"\") == \"***\""
   ]
  },
  {
   "cell_type": "markdown",
   "id": "63a7ceb3",
   "metadata": {},
   "source": [
    "#### Exploration"
   ]
  },
  {
   "cell_type": "markdown",
   "id": "23853993",
   "metadata": {},
   "source": [
    "We have numbers, and as they are functions, we may want to try a few things."
   ]
  },
  {
   "cell_type": "code",
   "execution_count": null,
   "id": "5facb931",
   "metadata": {},
   "outputs": [],
   "source": [
    "TWO(TWO)(incr)(0)"
   ]
  },
  {
   "cell_type": "markdown",
   "id": "e8122141",
   "metadata": {},
   "source": [
    "Multiplication?\n",
    "\n",
    "Well, could have been, but nope."
   ]
  },
  {
   "cell_type": "code",
   "execution_count": null,
   "id": "ab26685e",
   "metadata": {},
   "outputs": [],
   "source": [
    "TWO(THREE)(incr)(0)"
   ]
  },
  {
   "cell_type": "markdown",
   "id": "8d086fbf",
   "metadata": {},
   "source": [
    "Exponentiation it is!"
   ]
  },
  {
   "cell_type": "code",
   "execution_count": null,
   "id": "68738664",
   "metadata": {},
   "outputs": [],
   "source": [
    "FOUR = lambda f: lambda x: f(f(f(f(x))))\n",
    "\n",
    "assert FOUR(THREE)(incr)(0) == 3**4"
   ]
  },
  {
   "cell_type": "markdown",
   "id": "c48d1d6c",
   "metadata": {},
   "source": [
    "With the same number definition, defining `ZERO` is matter of never calling the `f` function:"
   ]
  },
  {
   "cell_type": "code",
   "execution_count": null,
   "id": "1724f5d1",
   "metadata": {},
   "outputs": [],
   "source": [
    "ZERO = lambda f: lambda x: x\n",
    "\n",
    "assert ZERO(incr)(0) == 0"
   ]
  },
  {
   "cell_type": "markdown",
   "id": "8501febd",
   "metadata": {},
   "source": [
    "#### Successor\n",
    "\n",
    "We have number, but we need a link between them to be able to count.\n",
    "\n",
    "The first link we are building is the `SUCC` function, that finds the number that follows a given one. You know, like *five* comes just after *four*.\n",
    "\n",
    "Intuitively, it means our *generic* `f` function is called an additional time.\n",
    "\n",
    "The function `SUCC` will take a number function as argument, we will call it `n`. This number is the kind we defined previously, i.e. it has an \"API\" that wants 2 arguments that are `f` and `x`.\n",
    " \n",
    "Let try this:"
   ]
  },
  {
   "cell_type": "code",
   "execution_count": null,
   "id": "129f56e7",
   "metadata": {},
   "outputs": [],
   "source": [
    "def SUCC(n):\n",
    "    #    ^---------- The number function whose successor is wanted\n",
    "    return lambda f: lambda x:   f(   n(f)(x)   )\n",
    "    #      ^^^^number API^^^^^   ^    ^^^^^^^ \"old/previous number\"\n",
    "    #                            |\n",
    "    #                    f applied once more"
   ]
  },
  {
   "cell_type": "markdown",
   "id": "ff196d9d",
   "metadata": {},
   "source": [
    "In short"
   ]
  },
  {
   "cell_type": "code",
   "execution_count": null,
   "id": "cb4acea8",
   "metadata": {},
   "outputs": [],
   "source": [
    "SUCC = lambda n: lambda f: lambda x: f(n(f)(x))"
   ]
  },
  {
   "cell_type": "markdown",
   "id": "8aa777aa",
   "metadata": {},
   "source": [
    "Does it work?\n",
    "\n",
    "Let's check:"
   ]
  },
  {
   "cell_type": "code",
   "execution_count": null,
   "id": "d9892e40",
   "metadata": {},
   "outputs": [],
   "source": [
    "assert SUCC(TWO)(incr)(0) == THREE(incr)(0)\n",
    "assert SUCC(SUCC(TWO))(incr)(0) == FOUR(incr)(0)"
   ]
  },
  {
   "cell_type": "markdown",
   "id": "6a1f79bb",
   "metadata": {},
   "source": [
    "### Arithmetics\n",
    "\n",
    "We have numbers, we want math operations!\n",
    "\n",
    "First, addition. Adding is taking several times the successor of a base number."
   ]
  },
  {
   "cell_type": "code",
   "execution_count": null,
   "id": "b08a37a5",
   "metadata": {},
   "outputs": [],
   "source": [
    "ADD = lambda x: lambda y: x(SUCC)(y)"
   ]
  },
  {
   "cell_type": "markdown",
   "id": "9ab45eb5",
   "metadata": {},
   "source": [
    "In other words, `SUCC` is applied `x`times on top of `y`."
   ]
  },
  {
   "cell_type": "code",
   "execution_count": null,
   "id": "c9205135",
   "metadata": {},
   "outputs": [],
   "source": [
    "assert ADD(TWO)(THREE)(incr)(0) == 5\n",
    "assert ADD(TWO)(THREE)(incr)(0) == ADD(FOUR)(ONE)(incr)(0)"
   ]
  },
  {
   "cell_type": "markdown",
   "id": "86c18da1",
   "metadata": {},
   "source": [
    "Nice :-)\n",
    "\n",
    "We are going to leave substraction for later, you will understand why.\n",
    "\n",
    "Now, multiplication.\n",
    "\n",
    "The main idea is to do `f` `x` times, then you want to do this `y` times. No need of `SUCC` here."
   ]
  },
  {
   "cell_type": "code",
   "execution_count": null,
   "id": "7bff6f31",
   "metadata": {},
   "outputs": [],
   "source": [
    "MUL = lambda x: lambda y: lambda f: y(x(f))"
   ]
  },
  {
   "cell_type": "code",
   "execution_count": null,
   "id": "485c5161",
   "metadata": {},
   "outputs": [],
   "source": [
    "assert MUL(FOUR)(THREE)(incr)(0) == 12"
   ]
  },
  {
   "cell_type": "markdown",
   "id": "f2f3b60a",
   "metadata": {},
   "source": [
    "Awesome.\n",
    "\n",
    "Division is mathematically and functionally definable with basic steps,\n",
    "so it is possible, but outside of the scope of this notebook."
   ]
  },
  {
   "cell_type": "markdown",
   "id": "b42f41e5",
   "metadata": {},
   "source": [
    "### Data Structures"
   ]
  },
  {
   "cell_type": "markdown",
   "id": "c7ad67e9",
   "metadata": {},
   "source": [
    "Our way to programming requires being able to aggregate informations.\n",
    "\n",
    "And the simplest way to start is to use the good, old lispy operators:\n",
    "\n",
    "* `CONS` to concatenate two \"values\", as a *t-uple* of 2 values, i.e. a *couple*.\n",
    "* `CAR` to get the first value of the couple.\n",
    "* `CDR` to get the second one."
   ]
  },
  {
   "cell_type": "code",
   "execution_count": null,
   "id": "8c5a9f88",
   "metadata": {},
   "outputs": [],
   "source": [
    "CONS = lambda a: lambda b: lambda s: s(a)(b)"
   ]
  },
  {
   "cell_type": "markdown",
   "id": "9c63a540",
   "metadata": {},
   "source": [
    "To stay compliant with our rules, we can consider that `lambda _: \"whatever\"` is\n",
    "a function that \"stores\" `\"whatever\"`.\n",
    "\n",
    "Make `\"whatever\"` is compliant function and we are good. \n",
    "\n",
    "Let's take simple values to begin with."
   ]
  },
  {
   "cell_type": "code",
   "execution_count": null,
   "id": "bd6b1d81",
   "metadata": {},
   "outputs": [],
   "source": [
    "p = CONS(2)(3)"
   ]
  },
  {
   "cell_type": "markdown",
   "id": "cfa40f06",
   "metadata": {},
   "source": [
    "We already have functions that allows selection.\n",
    "\n",
    "Remember, we made an electrical switch at the beginning of our journey."
   ]
  },
  {
   "cell_type": "code",
   "execution_count": null,
   "id": "925e7b41",
   "metadata": {},
   "outputs": [],
   "source": [
    "assert p(TRUE) == 2\n",
    "assert p(FALSE) == 3"
   ]
  },
  {
   "cell_type": "markdown",
   "id": "a6af285a",
   "metadata": {},
   "source": [
    "So we use them to implement the missing missing `CAR` and `CDR` functions:"
   ]
  },
  {
   "cell_type": "code",
   "execution_count": null,
   "id": "4d8cc88c",
   "metadata": {},
   "outputs": [],
   "source": [
    "CAR = lambda p: p(TRUE)\n",
    "CDR = lambda p: p(FALSE)"
   ]
  },
  {
   "cell_type": "markdown",
   "id": "098d29a4",
   "metadata": {},
   "source": [
    "A few assertions will ensure we are correct:"
   ]
  },
  {
   "cell_type": "code",
   "execution_count": null,
   "id": "a435d710",
   "metadata": {},
   "outputs": [],
   "source": [
    "assert CAR(CONS(2)(3)) == 2\n",
    "assert CDR(CONS(2)(3)) == 3"
   ]
  },
  {
   "cell_type": "markdown",
   "id": "47a4ed22",
   "metadata": {},
   "source": [
    "At top level, it seems to be limited to 2 values. It is not, composition gives us linked lists."
   ]
  },
  {
   "cell_type": "code",
   "execution_count": null,
   "id": "f4949796",
   "metadata": {},
   "outputs": [],
   "source": [
    "assert CAR(CDR(CONS(2)(CONS(3)(4)))) == 3"
   ]
  },
  {
   "cell_type": "markdown",
   "id": "88e087ad",
   "metadata": {},
   "source": [
    "### Predecessor"
   ]
  },
  {
   "cell_type": "markdown",
   "id": "46038576",
   "metadata": {},
   "source": [
    "We are on the way to define what is required to build the substraction operation.\n",
    "\n",
    "To do this, we will use *couples*, composed of a number and its predecessor.\n",
    "\n",
    "How do we find the predecessor? Well, we don't.\n",
    "\n",
    "We do this the other way around.\n",
    "\n",
    "The couple is in fact a number and its successor, but in reverse order. Finding the\n",
    "successor is a solved problem, thanks to the `SUCC` function.\n",
    "\n",
    "Let's define our couple:"
   ]
  },
  {
   "cell_type": "code",
   "execution_count": null,
   "id": "ea4ea81a",
   "metadata": {},
   "outputs": [],
   "source": [
    "COUPLE = lambda p: CONS(SUCC(CAR(p)))(CAR(p))"
   ]
  },
  {
   "cell_type": "markdown",
   "id": "ea92cf3d",
   "metadata": {},
   "source": [
    "It is a data structure (thanks to `CONS`) composed of a successor of number `p` and the number `p`.\n",
    "\n",
    "Well, not exactly.\n",
    "\n",
    "Did you notice the 2 `CAR`s within?\n",
    "\n",
    "`p` is not a number here.\n",
    "\n",
    "`p` is supposed to be a `COUPLE`!\n",
    "\n",
    "How are we supposed to build and use that?\n",
    "\n",
    "First, we will use \"alternative\" numbers, that are `COUPLE`s instead of previous number functions.\n",
    "\n",
    "Second, we are going to use what we already have to do so.\n",
    "\n",
    "In this new scheme, here is what the *four* number is like:"
   ]
  },
  {
   "cell_type": "code",
   "execution_count": null,
   "id": "cdb7061f",
   "metadata": {},
   "outputs": [],
   "source": [
    "FOUR_ = FOUR(COUPLE)(CONS(ZERO)(ZERO))"
   ]
  },
  {
   "cell_type": "markdown",
   "id": "dfd4188f",
   "metadata": {},
   "source": [
    "`CONS(ZERO)(ZERO)` is our initial value.\n",
    "\n",
    "`COUPLE` applied to `CONS(ZERO)(ZERO)` is `CONS(ONE)(ZERO)`.\n",
    "\n",
    "`COUPLE` applied to `CONS(ONE)(ZERO)` is `CONS(TWO)(ONE)`.\n",
    "\n",
    "Do this 4 times, and you have CONS(FOUR)(THREE).\n",
    "\n",
    "And by definition, `FOUR(COUPLE)` applies `COUPLE` four times.\n",
    "\n",
    "Wow, strange.\n",
    "\n",
    "Does it even work?"
   ]
  },
  {
   "cell_type": "code",
   "execution_count": null,
   "id": "ed20b9d3",
   "metadata": {},
   "outputs": [],
   "source": [
    "assert CAR(FOUR_)(incr)(0) == 4\n",
    "assert CDR(FOUR_)(incr)(0) == 3"
   ]
  },
  {
   "cell_type": "markdown",
   "id": "2c4d9cc3",
   "metadata": {},
   "source": [
    "It seems so.\n",
    "\n",
    "We now have the tool to get the predecessor of any number.\n",
    "\n",
    "Unconvinced?\n",
    "\n",
    "Check again:"
   ]
  },
  {
   "cell_type": "code",
   "execution_count": null,
   "id": "62d96d04",
   "metadata": {},
   "outputs": [],
   "source": [
    "assert CAR(FOUR_)(incr)(0) == 4\n",
    "assert CDR(FOUR_)(incr)(0) == 3  # <-- Looks a lot like 4 predecessor."
   ]
  },
  {
   "cell_type": "markdown",
   "id": "ab51873d",
   "metadata": {},
   "source": [
    "That leads us to this (non-obvious at first, at least for me) predecessor function:"
   ]
  },
  {
   "cell_type": "code",
   "execution_count": null,
   "id": "9a5bbdba",
   "metadata": {},
   "outputs": [],
   "source": [
    "PRED = lambda n: CDR(n(COUPLE)(CONS(ZERO)(ZERO)))"
   ]
  },
  {
   "cell_type": "markdown",
   "id": "2d921010",
   "metadata": {},
   "source": [
    "What is happening here?\n",
    "\n",
    "1. We take the `n` number.\n",
    "2. We build the `(n, n-1)` couple, by applying `COUPLE` `n` times to\n",
    "   the `CONS(ZERO)(ZERO)` initial value.\n",
    "3. And we only keep the second part of the resulting structure.\n",
    "\n",
    "I'm not even kidding:"
   ]
  },
  {
   "cell_type": "code",
   "execution_count": null,
   "id": "f9153f80",
   "metadata": {},
   "outputs": [],
   "source": [
    "EXP = FOUR(THREE)  # Exponentiation, remember?\n",
    "assert EXP(incr)(0) == 81\n",
    "assert PRED(EXP)(incr)(0) == 80"
   ]
  },
  {
   "cell_type": "markdown",
   "id": "aff2a71a",
   "metadata": {},
   "source": [
    "At this point, it is important to notice that the point is about what is possible, not its effectiveness.\n",
    "\n",
    "This will be even more true when building substraction."
   ]
  },
  {
   "cell_type": "markdown",
   "id": "d7c64b7e",
   "metadata": {},
   "source": [
    "### Substraction"
   ]
  },
  {
   "cell_type": "markdown",
   "id": "234fc73e",
   "metadata": {},
   "source": [
    "When you have the `PRED` function, substraction definition looks a lot like the addition one."
   ]
  },
  {
   "cell_type": "code",
   "execution_count": null,
   "id": "3bd24bb4",
   "metadata": {},
   "outputs": [],
   "source": [
    "SUB = lambda x: lambda y: y(PRED)(x)"
   ]
  },
  {
   "cell_type": "code",
   "execution_count": null,
   "id": "6b4c3ba9",
   "metadata": {},
   "outputs": [],
   "source": [
    "assert SUB(FOUR)(TWO)(incr)(0) == 2"
   ]
  },
  {
   "cell_type": "markdown",
   "id": "6d2b5b53",
   "metadata": {},
   "source": [
    "Fantastic!\n",
    "\n",
    "Highly inefficient, but possible. And fantastic!"
   ]
  },
  {
   "cell_type": "markdown",
   "id": "2850fa51",
   "metadata": {},
   "source": [
    "### Tests"
   ]
  },
  {
   "cell_type": "markdown",
   "id": "0555fa91",
   "metadata": {},
   "source": [
    "Now this will start to look like we can actually write a computer program.\n",
    "\n",
    "Tests!\n",
    "\n",
    "In other terms, *conditions*, i.e. some kind of `if`-clause, but with functions.\n",
    "\n",
    "Promising, isn't it?"
   ]
  },
  {
   "cell_type": "markdown",
   "id": "120e70c5",
   "metadata": {},
   "source": [
    "The simplest test that comes to one's mind when dealing with numbers is testing for zero value.\n",
    "\n",
    "What we want is a function that returns `FALSE` or `TRUE`, when given a function-number `n`.\n",
    "\n",
    "To do this, we have to remember that `ZERO(f)(x)` never calls `f`."
   ]
  },
  {
   "cell_type": "code",
   "execution_count": null,
   "id": "bdc03c02",
   "metadata": {},
   "outputs": [],
   "source": [
    "def f(_):\n",
    "    raise Exception()\n",
    "    \n",
    "assert ZERO(f)(0) == 0"
   ]
  },
  {
   "cell_type": "markdown",
   "id": "d222d74c",
   "metadata": {},
   "source": [
    "On the opposite, any other number-function calls `f` at least once.\n",
    "\n",
    "So `ZERO(f)(\"whatever\")` will return `\"whatever\"`. Replace `\"whatever\"`\n",
    "with `TRUE` and we have half of what we want."
   ]
  },
  {
   "cell_type": "code",
   "execution_count": null,
   "id": "3b80d343",
   "metadata": {},
   "outputs": [],
   "source": [
    "assert ZERO(f)(TRUE) == TRUE"
   ]
  },
  {
   "cell_type": "markdown",
   "id": "c898fdc2",
   "metadata": {},
   "source": [
    "To get the other half, notice that whatever the (stricly positive) number\n",
    "of times the `f` function is called, it should always return `FALSE`.\n",
    "\n",
    "If only we had a function like `lambda _: FALSE`...\n",
    "\n",
    "Oh wait!\n",
    "\n",
    "We got it now:"
   ]
  },
  {
   "cell_type": "code",
   "execution_count": null,
   "id": "a50bc66c",
   "metadata": {},
   "outputs": [],
   "source": [
    "IS_ZERO = lambda n: n(lambda _: FALSE)(TRUE)"
   ]
  },
  {
   "cell_type": "code",
   "execution_count": null,
   "id": "acd8787b",
   "metadata": {},
   "outputs": [],
   "source": [
    "assert IS_ZERO(ZERO) == TRUE\n",
    "assert IS_ZERO(ONE) == FALSE\n",
    "assert IS_ZERO(THREE) == FALSE"
   ]
  },
  {
   "cell_type": "markdown",
   "id": "923f5e19",
   "metadata": {},
   "source": [
    "Tada! 🎉"
   ]
  },
  {
   "cell_type": "markdown",
   "id": "de1bef7b",
   "metadata": {},
   "source": [
    "## At last, some code"
   ]
  },
  {
   "cell_type": "markdown",
   "id": "100d7367",
   "metadata": {},
   "source": [
    "### Factorial!"
   ]
  },
  {
   "cell_type": "markdown",
   "id": "3f8cbf24",
   "metadata": {},
   "source": [
    "Factorial is a mathematical operation that is easy to implement in a recursive way.\n",
    "\n",
    "$$ n! = n(n-1)(n-2)\\cdots (2)(1) $$"
   ]
  },
  {
   "cell_type": "code",
   "execution_count": null,
   "id": "bb5f8ea6",
   "metadata": {},
   "outputs": [],
   "source": [
    "def fact(n):\n",
    "    if n == 0:\n",
    "        return 1\n",
    "    else:\n",
    "        return n * fact(n - 1)"
   ]
  },
  {
   "cell_type": "code",
   "execution_count": null,
   "id": "0dfd2819",
   "metadata": {},
   "outputs": [],
   "source": [
    "assert fact(3) == 6"
   ]
  },
  {
   "cell_type": "markdown",
   "id": "9ab1e6bd",
   "metadata": {},
   "source": [
    "Indeed, $3! = 6$.\n",
    "\n",
    "Good, good."
   ]
  },
  {
   "cell_type": "markdown",
   "id": "43ecaa91",
   "metadata": {},
   "source": [
    "Now, we translate exactly this code into our basic functions:"
   ]
  },
  {
   "cell_type": "code",
   "execution_count": null,
   "id": "686489f0",
   "metadata": {},
   "outputs": [],
   "source": [
    "FACT = lambda n: IS_ZERO(n) (ONE) (MUL(n)(FACT(PRED(n))))\n",
    "#                   if FALSE ^^^   ^^^^^^^^^^^^^^^^^^^^^ if TRUE"
   ]
  },
  {
   "cell_type": "markdown",
   "id": "e7f38963",
   "metadata": {},
   "source": [
    "It is almost part-per-part translation.\n",
    "\n",
    "If you are still reading at this point, you may find it somewhat elegant.\n",
    "\n",
    "Does it work?\n",
    "\n",
    "Well... in theory, yes.\n",
    "\n",
    "That means no, and we are going to explain why and how to make it work.\n",
    "\n",
    "But let me state first that our code is correct.\n",
    "\n",
    "It does not work the way it is intended because of the Python interpreter.\n",
    "\n",
    "Look:"
   ]
  },
  {
   "cell_type": "code",
   "execution_count": null,
   "id": "ab709c29",
   "metadata": {},
   "outputs": [],
   "source": [
    "try:\n",
    "    FACT(THREE)\n",
    "except RecursionError:\n",
    "    print(\"Oh no! :lemming_emoji:\")"
   ]
  },
  {
   "cell_type": "markdown",
   "id": "087caeb7",
   "metadata": {},
   "source": [
    "#### Problem"
   ]
  },
  {
   "cell_type": "markdown",
   "id": "2c9d6b9d",
   "metadata": {},
   "source": [
    "`Recursion error`! Python can not have infinite depth of function call. Usual limit is around 1000 calls.\n",
    "\n",
    "Ok, but why does it triggers so many calls?\n",
    "\n",
    "Because Python is an **eager** language: it evaluates all expressions before use, even when they are not actually used.\n",
    "\n",
    "It makes sense intuitively: Python evaluates the value of each argument before calling a function. Even if the argument is not used inside the function.\n",
    "\n",
    "The vast majority of industry programming languages are eager. So Python is not alone with this \"limitation\".\n",
    "\n",
    "Alternatively, non-eager languages are called **lazy**. Some of them, like Haskell, let you choose between eager and lazy evaluations.\n",
    "\n",
    "The problem is identified. We now have to look for a solution."
   ]
  },
  {
   "cell_type": "markdown",
   "id": "b2566025",
   "metadata": {},
   "source": [
    "#### Solution"
   ]
  },
  {
   "cell_type": "markdown",
   "id": "5ab7150b",
   "metadata": {},
   "source": [
    "We somehow have to find a way to make Python lazy.\n",
    "\n",
    "And guess what?\n",
    "\n",
    "This can be achieved with functions.\n",
    "\n",
    "*Moar* lambdaaaaaaas!.\n",
    "\n",
    "Just remember that, at this point, we are breaking the initial rules we gave ourselves.\n",
    "\n",
    "But we are doing so because of Python, not because we made mistakes.\n",
    "\n",
    "In a way, we are switching from the *Computer Science* domain to the *Software Engineering* one. Compromises...\n",
    "\n",
    "To fix the problem, we introduce explicitly lazy versions of `TRUE` and `FALSE` functions:"
   ]
  },
  {
   "cell_type": "code",
   "execution_count": null,
   "id": "24115dc4",
   "metadata": {},
   "outputs": [],
   "source": [
    "LAZY_TRUE = lambda x: lambda y: x()\n",
    "#                                ^^ This is not allowed by our initial rules.\n",
    "LAZY_FALSE = lambda x: lambda y: y()\n",
    "#                                 ^^ Same here."
   ]
  },
  {
   "cell_type": "markdown",
   "id": "133250ae",
   "metadata": {},
   "source": [
    "Then we replace the eager version in our good, old `IS_ZERO` test function."
   ]
  },
  {
   "cell_type": "code",
   "execution_count": null,
   "id": "cf447d04",
   "metadata": {},
   "outputs": [],
   "source": [
    "IS_ZERO = lambda n: n(lambda _: LAZY_FALSE)(LAZY_TRUE)\n",
    "#                           here^^^^^^^^^^and^^^^^^^^there"
   ]
  },
  {
   "cell_type": "markdown",
   "id": "68ab56b7",
   "metadata": {},
   "source": [
    "Let's define `FACT` again with this new code."
   ]
  },
  {
   "cell_type": "code",
   "execution_count": null,
   "id": "1f8216a7",
   "metadata": {},
   "outputs": [],
   "source": [
    "FACT = lambda n: IS_ZERO(n)(lambda: ONE)(lambda: MUL(n)(FACT(PRED(n))))"
   ]
  },
  {
   "cell_type": "markdown",
   "id": "21f6ac81",
   "metadata": {},
   "source": [
    "And..."
   ]
  },
  {
   "cell_type": "code",
   "execution_count": null,
   "id": "6bb16bd0",
   "metadata": {},
   "outputs": [],
   "source": [
    "assert FACT(THREE)(incr)(0) == 6"
   ]
  },
  {
   "cell_type": "markdown",
   "id": "b5eae420",
   "metadata": {},
   "source": [
    "So pleasing.\n",
    "\n",
    "We actually succeeded at writing and executing a program only made of single-argument functions.\n",
    "\n",
    "But in fact, we did not."
   ]
  },
  {
   "cell_type": "markdown",
   "id": "9b3acbf0",
   "metadata": {},
   "source": [
    "### We cheated"
   ]
  },
  {
   "cell_type": "markdown",
   "id": "325f03b4",
   "metadata": {},
   "source": [
    "What?\n",
    "\n",
    "Nooooooooo.\n",
    "\n",
    "What happened?\n",
    "\n",
    "We defined names.\n",
    "\n",
    "We use `FACT` to implement `FACT`."
   ]
  },
  {
   "cell_type": "code",
   "execution_count": null,
   "id": "92e18572",
   "metadata": {},
   "outputs": [],
   "source": [
    "FACT = lambda n: IS_ZERO(n) (ONE) (MUL(n)(FACT(PRED(n))))\n",
    "#                                         ^^^^ here"
   ]
  },
  {
   "cell_type": "markdown",
   "id": "e755fe68",
   "metadata": {},
   "source": [
    "THAT is against the rules.\n",
    "\n",
    "What are we going to do?"
   ]
  },
  {
   "cell_type": "markdown",
   "id": "43eda289",
   "metadata": {},
   "source": [
    "## No References"
   ]
  },
  {
   "cell_type": "markdown",
   "id": "13eaf481",
   "metadata": {},
   "source": [
    "What we want to achieve is to find out how to define `FACT` without using the `FACT` name.\n",
    "\n",
    "Our problem is that this name is not a function argument, but a reference to an external pre-existing function (a kind of global). Cheating, I told you.\n",
    "\n",
    "First, a bit of exploration.\n",
    "\n",
    "Remember, usual `factorial` can be written like this:"
   ]
  },
  {
   "cell_type": "code",
   "execution_count": null,
   "id": "7cf31bcb",
   "metadata": {},
   "outputs": [],
   "source": [
    "fact = lambda n: 1 if n == 0 else n * fact(n - 1)"
   ]
  },
  {
   "cell_type": "code",
   "execution_count": null,
   "id": "20ad5c7a",
   "metadata": {},
   "outputs": [],
   "source": [
    "assert fact(5) == 120"
   ]
  },
  {
   "cell_type": "markdown",
   "id": "e232932d",
   "metadata": {},
   "source": [
    "Removing a reference name can start by making it an argument:"
   ]
  },
  {
   "cell_type": "code",
   "execution_count": null,
   "id": "582a38d2",
   "metadata": {},
   "outputs": [],
   "source": [
    "fact = (lambda f: lambda n: 1 if n == 0 else n * f(n - 1))(fact)\n",
    "#              ^                                 ^         ^^^^\n",
    "#              |--------------->-----------------|           |\n",
    "#              |---------------<-----------------------------|"
   ]
  },
  {
   "cell_type": "code",
   "execution_count": null,
   "id": "29af0f9d",
   "metadata": {},
   "outputs": [],
   "source": [
    "assert fact(5) == 120"
   ]
  },
  {
   "cell_type": "markdown",
   "id": "f5485c61",
   "metadata": {},
   "source": [
    "Nothing really fancy here.\n",
    "\n",
    "What we did is basically:"
   ]
  },
  {
   "cell_type": "code",
   "execution_count": null,
   "id": "951a4d7a",
   "metadata": {},
   "outputs": [],
   "source": [
    "assert 2 == (lambda y: y)(2)"
   ]
  },
  {
   "cell_type": "markdown",
   "id": "66618f66",
   "metadata": {},
   "source": [
    "At this point, we still have the `fact` argument.\n",
    "\n",
    "Next step, try substitution:"
   ]
  },
  {
   "cell_type": "code",
   "execution_count": null,
   "id": "edbb200f",
   "metadata": {},
   "outputs": [],
   "source": [
    "fact = (lambda f: lambda n: 1 if n == 0 else n * f(n - 1))(\n",
    "    #   ^^^^^^^^^^^^^^^^^^^^^^^^^^^^^^^^^^^^^^^^^^^^^^^^^\n",
    "    #                       |        ^\n",
    "    #                       Get this |\n",
    "    #                       and\n",
    "    #                       put it here |\n",
    "    #                       |           v\n",
    "    # vvvvvvvvvvvvvvvvvvvvvvvvvvvvvvvvvvvvvvvvvvvvvvv\n",
    "    lambda f: lambda n: 1 if n == 0 else n * f(n - 1)\n",
    ")"
   ]
  },
  {
   "cell_type": "markdown",
   "id": "dfad1b42",
   "metadata": {},
   "source": [
    "There, no more `fact` argument. How great is that?\n",
    "\n",
    "Well, it is great if it works."
   ]
  },
  {
   "cell_type": "code",
   "execution_count": null,
   "id": "00d9ebc2",
   "metadata": {},
   "outputs": [],
   "source": [
    "assert fact(0) == 1"
   ]
  },
  {
   "cell_type": "markdown",
   "id": "80d0fdfb",
   "metadata": {},
   "source": [
    "is a good start.\n",
    "\n",
    "Unfortunately,"
   ]
  },
  {
   "cell_type": "code",
   "execution_count": null,
   "id": "58c44f31",
   "metadata": {},
   "outputs": [],
   "source": [
    "assert fact(1) == 1"
   ]
  },
  {
   "cell_type": "markdown",
   "id": "d2dc5c6c",
   "metadata": {},
   "source": [
    "Can you spot the problem?\n",
    "\n",
    "In the first `n * f(n - 1)`, `n` is an integer (`int`) attempts to\n",
    "multiply to `f(n - 1)` that should evaluate to another `int`.\n",
    "\n",
    "Except `f(n - 1)` is a function, not an `int`.\n",
    "\n",
    "In this case, the `f` argument value is the whole subsituted term,\n",
    "that takes 2 arguments.\n",
    "\n",
    "To fix this, the second argument has to be provided.\n",
    "\n",
    "Remember, the first argument is the function we want to use as argument.\n",
    "Which is `f`.\n",
    "\n",
    "New attempt:"
   ]
  },
  {
   "cell_type": "code",
   "execution_count": null,
   "id": "02f690b7",
   "metadata": {},
   "outputs": [],
   "source": [
    "fact = (lambda f: lambda n: 1 if n == 0 else n * f(f)(n - 1))(\n",
    "    #                                            ^^^^ here...\n",
    "    lambda f: lambda n: 1 if n == 0 else n * f(f)(n - 1)\n",
    "    #                                        ^^^^ ... and there.\n",
    ")"
   ]
  },
  {
   "cell_type": "code",
   "execution_count": null,
   "id": "caba78ea",
   "metadata": {},
   "outputs": [],
   "source": [
    "assert fact(0) == 1\n",
    "assert fact(5) == 120"
   ]
  },
  {
   "cell_type": "markdown",
   "id": "625b2c7b",
   "metadata": {},
   "source": [
    "This definition is not really beautiful with all these repetitions,\n",
    "but please do not ignore the rejoicing fact that we can now completely\n",
    "drop reference to any pre-existing name.\n",
    "\n",
    "What do I mean?"
   ]
  },
  {
   "cell_type": "code",
   "execution_count": null,
   "id": "f273b430",
   "metadata": {},
   "outputs": [],
   "source": [
    "assert (lambda f: lambda n: 1 if n == 0 else n * f(f)(n - 1))(\n",
    "    lambda f: lambda n: 1 if n == 0 else n * f(f)(n - 1)\n",
    ")(5) == 120"
   ]
  },
  {
   "cell_type": "markdown",
   "id": "8ecc9950",
   "metadata": {},
   "source": [
    "See? Recursive definition, but no names."
   ]
  },
  {
   "cell_type": "markdown",
   "id": "a63801a1",
   "metadata": {},
   "source": [
    "### Abstract Recursion"
   ]
  },
  {
   "cell_type": "markdown",
   "id": "aee2480f",
   "metadata": {},
   "source": [
    "Consider our previous Python factorial definition:"
   ]
  },
  {
   "cell_type": "code",
   "execution_count": null,
   "id": "27402752",
   "metadata": {},
   "outputs": [],
   "source": [
    "fact = (lambda f: lambda n: 1 if n == 0 else n * f(n - 1))(fact)"
   ]
  },
  {
   "cell_type": "markdown",
   "id": "3aad730a",
   "metadata": {},
   "source": [
    "Wouldn't it be nice to abstract the business part for the we-deal-with-recursion part?\n",
    "\n",
    "Something like:"
   ]
  },
  {
   "cell_type": "code",
   "execution_count": null,
   "id": "ff38bed2",
   "metadata": {},
   "outputs": [],
   "source": [
    "R = lambda f: lambda n: 1 if n == 0 else n * f(n - 1)"
   ]
  },
  {
   "cell_type": "markdown",
   "id": "2e08d278",
   "metadata": {},
   "source": [
    "on the one hand, and:"
   ]
  },
  {
   "cell_type": "code",
   "execution_count": null,
   "id": "e75b03bc",
   "metadata": {},
   "outputs": [],
   "source": [
    "fact = R(fact)"
   ]
  },
  {
   "cell_type": "markdown",
   "id": "d666949f",
   "metadata": {},
   "source": [
    "on the other hand.\n",
    "\n",
    "Could it be as simple?\n",
    "\n",
    "Well no.\n",
    "\n",
    "Yes, this works:"
   ]
  },
  {
   "cell_type": "code",
   "execution_count": null,
   "id": "b03e0f5d",
   "metadata": {},
   "outputs": [],
   "source": [
    "assert fact(5) == 120"
   ]
  },
  {
   "cell_type": "markdown",
   "id": "1b6a6c88",
   "metadata": {},
   "source": [
    "But we're cheating again.\n",
    "\n",
    "```python\n",
    "fact = R(fact)\n",
    "```\n",
    "\n",
    "is valid Python only if `fact` is defined beforehand.\n",
    "\n",
    "Reference...\n",
    "\n",
    "But next idea starts from this attempt."
   ]
  },
  {
   "cell_type": "markdown",
   "id": "e703f989",
   "metadata": {},
   "source": [
    "### Fixed point"
   ]
  },
  {
   "cell_type": "markdown",
   "id": "e7571c80",
   "metadata": {},
   "source": [
    "If you are still there, congratulations.\n",
    "\n",
    "My tone may be playful and cheerful, but most of the previous steps\n",
    "were not obvious to me. We came a long way. And the end of this\n",
    "journey is arriving soon.\n",
    "\n",
    "But this last step is not the simplest one.\n",
    "\n",
    "Bear with me, the end is worth it.\n",
    "\n",
    "(Note that I can lie, but you won't be sure unless you read on, so\n",
    "at this point, why not trusting me? Did I ever deceive you?)"
   ]
  },
  {
   "cell_type": "markdown",
   "id": "04c557a4",
   "metadata": {},
   "source": [
    "It is time to talk about the *fixed-point*.\n",
    "\n",
    "This is an official (read: *mathematical*) definition:\n",
    "\n",
    "> \"`x` is fixed-point of `f`\" means `f(f(x)) == f(x) == x`.\n",
    "\n",
    "For example, consider $\\sqrt{1} = 1$: 1 a fixed-point of the square root function.\n",
    "\n",
    "Under this definition, `fact = R(fact)` means that `fact` is a fixed point of `R`.\n",
    "\n"
   ]
  },
  {
   "cell_type": "markdown",
   "id": "9252c5f3",
   "metadata": {},
   "source": [
    "Next steps will look like code, but is not actual, runnable Python.\n",
    "\n",
    "We will use it though, as it is a good way to illustrate the reasoning.\n",
    "\n",
    "Take a deep breath and let's go.\n",
    "\n",
    "We will deal with a function called `Y`, that has a ~~unique~~interesting property.\n",
    "\n",
    "We suppose that `Y(R)` returns a fixed point of `R`.\n",
    "\n",
    "That implies, per fixed-point definition, that\n",
    "\n",
    "```python\n",
    "        Y(R) = R(Y(R))\n",
    "```\n",
    "\n",
    "Applying `R`, i.e. writing `R(...)`, is the same as writing `(lambda x: R(x))(...)`.\n",
    "So we can write it as:\n",
    "\n",
    "```python\n",
    "        Y(R) = (lambda x: R(x))(Y(R))\n",
    "```\n",
    "\n",
    "We now want to eliminated what is a recursive call to `Y(R)`, so we use the same trick\n",
    "than our `fact` implementation, i.e. we repeat the function definition instead of its\n",
    "name:\n",
    "\n",
    "\n",
    "```python\n",
    "        Y(R) = (lambda x: R(x))(lambda x: R(x))\n",
    "```\n",
    "\n",
    "Remember that when we did this, it failed miserably, because its arguments are not a single\n",
    "function argument, but a 2 functions. We solved this by \"doubling the call\", i.e. using `f(f)`\n",
    "instead of just `f` in both call sites.\n",
    "\n",
    "Doing the same, we get:\n",
    "\n",
    "```python\n",
    "        Y(R) = (lambda x: R(x(x)))(lambda x: R(x(x)))\n",
    "```\n",
    "\n",
    "Next step, we want the `R` to become a argument. We do this by adding a `f` parameter,\n",
    "that takes the `R` value as argument:\n",
    "\n",
    "```python\n",
    "        Y(R) = ( lambda f: (lambda x: f(x(x)))(lambda x: f(x(x))) )(R)\n",
    "```\n",
    "\n",
    "Finally, because `R` has become a single argument on both side of the affectation,\n",
    "we can drop it without changing Y definition:"
   ]
  },
  {
   "cell_type": "code",
   "execution_count": null,
   "id": "61339b69",
   "metadata": {},
   "outputs": [],
   "source": [
    "Y = lambda f: (lambda x: f(x(x)))(lambda x: f(x(x)))"
   ]
  },
  {
   "cell_type": "markdown",
   "id": "0bca10b5",
   "metadata": {},
   "source": [
    "Please welcome the *Y combinator*, invention (or discovery?) of Haskell B. Curry.\n",
    "\n",
    "Oh, if you are curious: a *combinator* is a function with no free variables.\n",
    "\n",
    "Now we can play with it.\n",
    "\n",
    "If we choose to define:"
   ]
  },
  {
   "cell_type": "code",
   "execution_count": null,
   "id": "2d02d61e",
   "metadata": {},
   "outputs": [],
   "source": [
    "R = lambda f: lambda n: 1 if n == 0 else n * f(n - 1)"
   ]
  },
  {
   "cell_type": "markdown",
   "id": "b681d242",
   "metadata": {},
   "source": [
    "Then `fact = Y(R)` should be sufficient to get our factorial function back.\n",
    "\n",
    "Theoritically, it is.\n",
    "\n",
    "In ~~practice~~Python, it is not."
   ]
  },
  {
   "cell_type": "code",
   "execution_count": null,
   "id": "937008bd",
   "metadata": {},
   "outputs": [],
   "source": [
    "try:\n",
    "    fact = Y(R)\n",
    "except RecursionError:\n",
    "    pass"
   ]
  },
  {
   "cell_type": "markdown",
   "id": "a8f094dc",
   "metadata": {},
   "source": [
    "Bitten by Python eager evaluation again!\n",
    "\n",
    "Previously, we wrapped some intermediate function calls to lambdas.\n",
    "\n",
    "We will do the same here to let Python give us something useful.\n",
    "\n",
    "Let it be clear that this is only a Python language and runtime ~~limitation~~requirement.\n",
    "\n",
    "More specifically:"
   ]
  },
  {
   "cell_type": "code",
   "execution_count": null,
   "id": "20065d96",
   "metadata": {},
   "outputs": [],
   "source": [
    "# Y=lambda f: (lambda x: f(          x(x)   ))(lambda x: f(          x(x)   ))  # <-- previous\n",
    "Y = lambda f: (lambda x: f(lambda z: x(x)(z)))(lambda x: f(lambda z: x(x)(z)))  # <-- adapted"
   ]
  },
  {
   "cell_type": "code",
   "execution_count": null,
   "id": "fb97e00a",
   "metadata": {},
   "outputs": [],
   "source": [
    "fact = Y(R)"
   ]
  },
  {
   "cell_type": "code",
   "execution_count": null,
   "id": "b9adc7db",
   "metadata": {},
   "outputs": [],
   "source": [
    "assert fact(5) == 120"
   ]
  },
  {
   "cell_type": "markdown",
   "id": "6a9e2239",
   "metadata": {},
   "source": [
    "Is our \"recursion\" abstraction working for anything else but factorial?\n",
    "\n",
    "The answer is yes!\n",
    "\n",
    "Here is Fibonacci:"
   ]
  },
  {
   "cell_type": "code",
   "execution_count": null,
   "id": "7198eefd",
   "metadata": {},
   "outputs": [],
   "source": [
    "fib = Y(lambda f: lambda n: 1 if n <= 2 else f(n - 1) + f(n - 2))\n",
    "assert fib(10) == 55"
   ]
  },
  {
   "cell_type": "markdown",
   "id": "95c25fb7",
   "metadata": {},
   "source": [
    "Here it is. My mind is more than bended. My head exploded.\n",
    "\n",
    "What about you?"
   ]
  },
  {
   "cell_type": "markdown",
   "id": "6be5de69",
   "metadata": {},
   "source": [
    "## Conclusion\n",
    "\n",
    "~~Assembly~~fundamentals of functional programming.\n",
    "\n",
    "I don't have any idea on how I could make this useful on a day-to-day basis.\n",
    "\n",
    "I can not even pretend making sense of any of this.\n",
    "\n",
    "But I went much farther than last time it tried, and I'm convinced it will make me better programmer.\n",
    "\n",
    "And if I'm wrong, at least perhaps you found this interesting, or even educational.\n"
   ]
  },
  {
   "cell_type": "markdown",
   "id": "bf219b7c",
   "metadata": {},
   "source": [
    "### Links\n",
    "\n",
    " * The video I used as base for this notebook: https://www.youtube.com/watch?v=5C6sv7-eTKg\n",
    "\n",
    " * You prefer Javascript instead of Python? Try https://lucasfcosta.com/2018/05/20/Y-The-Most-Beautiful-Idea-in-Computer-Science.html\n",
    "        \n",
    " * *Y-combinator*, in Python:\n",
    " \n",
    "   * https://lptk.github.io/programming/2019/10/15/simple-essence-y-combinator.html\n",
    "   * https://david.ae/posts/the-z-and-y-combinators-in-python/\n",
    "  \n",
    " * Previous derivations and more, still in Python: https://matt.might.net/articles/python-church-y-combinator/, with a fun realization:\n",
    " \n",
    "  > this post is a proof that the indentation-sensitive constructs in Python are strictly optional"
   ]
  }
 ],
 "metadata": {
  "kernelspec": {
   "display_name": "Python 3 (ipykernel)",
   "language": "python",
   "name": "python3"
  },
  "language_info": {
   "codemirror_mode": {
    "name": "ipython",
    "version": 3
   },
   "file_extension": ".py",
   "mimetype": "text/x-python",
   "name": "python",
   "nbconvert_exporter": "python",
   "pygments_lexer": "ipython3",
   "version": "3.10.5"
  }
 },
 "nbformat": 4,
 "nbformat_minor": 5
}
